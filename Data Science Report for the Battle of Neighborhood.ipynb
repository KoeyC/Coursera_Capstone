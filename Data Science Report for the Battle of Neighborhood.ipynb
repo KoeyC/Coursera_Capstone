{
    "cells": [
        {
            "cell_type": "markdown",
            "metadata": {
                "collapsed": true
            },
            "source": "# Analyze restaurants in New York City for the potential owners"
        },
        {
            "cell_type": "markdown",
            "metadata": {},
            "source": "## Introduction "
        },
        {
            "cell_type": "markdown",
            "metadata": {},
            "source": "The location of your restaurant will impact its success nearly as much as the menu. If your restaurant is in the wrong place, you won't attract the amount of customers you will need in order to stay in business. The same is true if your location is inundated with competitors, or has poor visibility, or is hard to find. There are many things that must be considered as you look for a location in which to open your business. Thus, it is vital to know what your target market is in order to find the right location for your restaurant."
        },
        {
            "cell_type": "markdown",
            "metadata": {},
            "source": "## Business Problem"
        },
        {
            "cell_type": "markdown",
            "metadata": {},
            "source": "Finding the right location is critical in ensuring a successful business. Data science provides valuable insights to business owner to find the right location so that you can get better chances for success. \nThis project is going to recommend which borough / neighborhood in the New York City will be the perfect spot to open a restaurant and which type of restaurant has the greatest opportunities for success.  "
        },
        {
            "cell_type": "markdown",
            "metadata": {},
            "source": "## Data Section"
        },
        {
            "cell_type": "markdown",
            "metadata": {},
            "source": "The location data source of NYC can be downloaded from the following link:\nhttps://cocl.us/new_york_dataset \nThis project also makes use of the Foursquare Place API to provide location based inventory about venues. "
        }
    ],
    "metadata": {
        "kernelspec": {
            "display_name": "Python 3.6",
            "language": "python",
            "name": "python3"
        },
        "language_info": {
            "codemirror_mode": {
                "name": "ipython",
                "version": 3
            },
            "file_extension": ".py",
            "mimetype": "text/x-python",
            "name": "python",
            "nbconvert_exporter": "python",
            "pygments_lexer": "ipython3",
            "version": "3.6.9"
        }
    },
    "nbformat": 4,
    "nbformat_minor": 1
}